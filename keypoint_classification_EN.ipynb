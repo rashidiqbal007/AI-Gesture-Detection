{
 "cells": [
  {
   "cell_type": "code",
   "execution_count": 27,
   "metadata": {
    "id": "igMyGnjE9hEp"
   },
   "outputs": [],
   "source": [
    "import csv\n",
    "\n",
    "import numpy as np\n",
    "import tensorflow as tf\n",
    "from sklearn.model_selection import train_test_split\n",
    "\n",
    "RANDOM_SEED = 42"
   ]
  },
  {
   "cell_type": "markdown",
   "metadata": {
    "id": "t2HDvhIu9hEr"
   },
   "source": [
    "# Specify each path"
   ]
  },
  {
   "cell_type": "code",
   "execution_count": 28,
   "metadata": {
    "id": "9NvZP2Zn9hEy"
   },
   "outputs": [],
   "source": [
    "dataset = 'model/keypoint_classifier/keypoint.csv'\n",
    "model_save_path = 'model/keypoint_classifier/keypoint_classifier.hdf5'\n",
    "tflite_save_path = 'model/keypoint_classifier/keypoint_classifier.tflite'"
   ]
  },
  {
   "cell_type": "markdown",
   "metadata": {
    "id": "s5oMH7x19hEz"
   },
   "source": [
    "# Set number of classes"
   ]
  },
  {
   "cell_type": "code",
   "execution_count": 29,
   "metadata": {
    "id": "du4kodXL9hEz"
   },
   "outputs": [],
   "source": [
    "NUM_CLASSES = 6"
   ]
  },
  {
   "cell_type": "markdown",
   "metadata": {
    "id": "XjnL0uso9hEz"
   },
   "source": [
    "# Dataset reading"
   ]
  },
  {
   "cell_type": "code",
   "execution_count": 30,
   "metadata": {
    "id": "QT5ZqtEz9hE0"
   },
   "outputs": [],
   "source": [
    "X_dataset = np.loadtxt(dataset, delimiter=',', dtype='float32', usecols=list(range(1, (21 * 2) + 1)))"
   ]
  },
  {
   "cell_type": "code",
   "execution_count": 31,
   "metadata": {
    "id": "QmoKFsp49hE0"
   },
   "outputs": [],
   "source": [
    "y_dataset = np.loadtxt(dataset, delimiter=',', dtype='int32', usecols=(0))"
   ]
  },
  {
   "cell_type": "code",
   "execution_count": 32,
   "metadata": {
    "id": "xQU7JTZ_9hE0"
   },
   "outputs": [],
   "source": [
    "X_train, X_test, y_train, y_test = train_test_split(X_dataset, y_dataset, train_size=0.75, random_state=RANDOM_SEED)"
   ]
  },
  {
   "cell_type": "markdown",
   "metadata": {
    "id": "mxK_lETT9hE0"
   },
   "source": [
    "# Model building"
   ]
  },
  {
   "cell_type": "code",
   "execution_count": 33,
   "metadata": {
    "id": "vHBmUf1t9hE1"
   },
   "outputs": [],
   "source": [
    "model = tf.keras.models.Sequential([\n",
    "    tf.keras.layers.Input((21 * 2, )),\n",
    "    tf.keras.layers.Dropout(0.2),\n",
    "    tf.keras.layers.Dense(20, activation='relu'),\n",
    "    tf.keras.layers.Dropout(0.4),\n",
    "    tf.keras.layers.Dense(10, activation='relu'),\n",
    "    tf.keras.layers.Dense(NUM_CLASSES, activation='softmax')\n",
    "])"
   ]
  },
  {
   "cell_type": "code",
   "execution_count": 34,
   "metadata": {
    "colab": {
     "base_uri": "https://localhost:8080/"
    },
    "id": "ypqky9tc9hE1",
    "outputId": "5db082bb-30e3-4110-bf63-a1ee777ecd46"
   },
   "outputs": [
    {
     "name": "stdout",
     "output_type": "stream",
     "text": [
      "Model: \"sequential_1\"\n",
      "_________________________________________________________________\n",
      " Layer (type)                Output Shape              Param #   \n",
      "=================================================================\n",
      " dropout_2 (Dropout)         (None, 42)                0         \n",
      "                                                                 \n",
      " dense_3 (Dense)             (None, 20)                860       \n",
      "                                                                 \n",
      " dropout_3 (Dropout)         (None, 20)                0         \n",
      "                                                                 \n",
      " dense_4 (Dense)             (None, 10)                210       \n",
      "                                                                 \n",
      " dense_5 (Dense)             (None, 6)                 66        \n",
      "                                                                 \n",
      "=================================================================\n",
      "Total params: 1,136\n",
      "Trainable params: 1,136\n",
      "Non-trainable params: 0\n",
      "_________________________________________________________________\n"
     ]
    }
   ],
   "source": [
    "model.summary()  # tf.keras.utils.plot_model(model, show_shapes=True)"
   ]
  },
  {
   "cell_type": "code",
   "execution_count": 35,
   "metadata": {
    "id": "MbMjOflQ9hE1"
   },
   "outputs": [],
   "source": [
    "# Model checkpoint callback\n",
    "cp_callback = tf.keras.callbacks.ModelCheckpoint(\n",
    "    model_save_path, verbose=1, save_weights_only=False)\n",
    "# Callback for early stopping\n",
    "es_callback = tf.keras.callbacks.EarlyStopping(patience=20, verbose=1)"
   ]
  },
  {
   "cell_type": "code",
   "execution_count": 36,
   "metadata": {
    "id": "c3Dac0M_9hE2"
   },
   "outputs": [],
   "source": [
    "# Model compilation\n",
    "model.compile(\n",
    "    optimizer='adam',\n",
    "    loss='sparse_categorical_crossentropy',\n",
    "    metrics=['accuracy']\n",
    ")"
   ]
  },
  {
   "cell_type": "markdown",
   "metadata": {
    "id": "7XI0j1Iu9hE2"
   },
   "source": [
    "# Model training"
   ]
  },
  {
   "cell_type": "code",
   "execution_count": 37,
   "metadata": {
    "colab": {
     "base_uri": "https://localhost:8080/"
    },
    "id": "WirBl-JE9hE3",
    "outputId": "71b30ca2-8294-4d9d-8aa2-800d90d399de",
    "scrolled": true
   },
   "outputs": [
    {
     "name": "stdout",
     "output_type": "stream",
     "text": [
      "Epoch 1/1000\n",
      "26/29 [=========================>....] - ETA: 0s - loss: 1.8058 - accuracy: 0.2305\n",
      "Epoch 1: saving model to model/keypoint_classifier\\keypoint_classifier.hdf5\n",
      "29/29 [==============================] - 2s 32ms/step - loss: 1.7920 - accuracy: 0.2375 - val_loss: 1.6568 - val_accuracy: 0.3128\n",
      "Epoch 2/1000\n",
      "26/29 [=========================>....] - ETA: 0s - loss: 1.6073 - accuracy: 0.3080\n",
      "Epoch 2: saving model to model/keypoint_classifier\\keypoint_classifier.hdf5\n",
      "29/29 [==============================] - 0s 13ms/step - loss: 1.5992 - accuracy: 0.3110 - val_loss: 1.4923 - val_accuracy: 0.3525\n",
      "Epoch 3/1000\n",
      "29/29 [==============================] - ETA: 0s - loss: 1.4668 - accuracy: 0.3472\n",
      "Epoch 3: saving model to model/keypoint_classifier\\keypoint_classifier.hdf5\n",
      "29/29 [==============================] - 0s 15ms/step - loss: 1.4668 - accuracy: 0.3472 - val_loss: 1.3585 - val_accuracy: 0.4514\n",
      "Epoch 4/1000\n",
      "24/29 [=======================>......] - ETA: 0s - loss: 1.3770 - accuracy: 0.3874\n",
      "Epoch 4: saving model to model/keypoint_classifier\\keypoint_classifier.hdf5\n",
      "29/29 [==============================] - 0s 16ms/step - loss: 1.3704 - accuracy: 0.3899 - val_loss: 1.2668 - val_accuracy: 0.5089\n",
      "Epoch 5/1000\n",
      "28/29 [===========================>..] - ETA: 0s - loss: 1.3139 - accuracy: 0.4205\n",
      "Epoch 5: saving model to model/keypoint_classifier\\keypoint_classifier.hdf5\n",
      "29/29 [==============================] - 0s 15ms/step - loss: 1.3114 - accuracy: 0.4218 - val_loss: 1.1997 - val_accuracy: 0.5656\n",
      "Epoch 6/1000\n",
      "29/29 [==============================] - ETA: 0s - loss: 1.2567 - accuracy: 0.4483\n",
      "Epoch 6: saving model to model/keypoint_classifier\\keypoint_classifier.hdf5\n",
      "29/29 [==============================] - 0s 13ms/step - loss: 1.2567 - accuracy: 0.4483 - val_loss: 1.1422 - val_accuracy: 0.6305\n",
      "Epoch 7/1000\n",
      "26/29 [=========================>....] - ETA: 0s - loss: 1.2082 - accuracy: 0.4844\n",
      "Epoch 7: saving model to model/keypoint_classifier\\keypoint_classifier.hdf5\n",
      "29/29 [==============================] - 0s 13ms/step - loss: 1.1996 - accuracy: 0.4880 - val_loss: 1.0890 - val_accuracy: 0.6378\n",
      "Epoch 8/1000\n",
      "29/29 [==============================] - ETA: 0s - loss: 1.1641 - accuracy: 0.4828\n",
      "Epoch 8: saving model to model/keypoint_classifier\\keypoint_classifier.hdf5\n",
      "29/29 [==============================] - 0s 13ms/step - loss: 1.1641 - accuracy: 0.4828 - val_loss: 1.0455 - val_accuracy: 0.6507\n",
      "Epoch 9/1000\n",
      "25/29 [========================>.....] - ETA: 0s - loss: 1.1237 - accuracy: 0.5084\n",
      "Epoch 9: saving model to model/keypoint_classifier\\keypoint_classifier.hdf5\n",
      "29/29 [==============================] - 0s 13ms/step - loss: 1.1284 - accuracy: 0.5063 - val_loss: 1.0053 - val_accuracy: 0.6653\n",
      "Epoch 10/1000\n",
      "26/29 [=========================>....] - ETA: 0s - loss: 1.1094 - accuracy: 0.5072\n",
      "Epoch 10: saving model to model/keypoint_classifier\\keypoint_classifier.hdf5\n",
      "29/29 [==============================] - 0s 13ms/step - loss: 1.1046 - accuracy: 0.5120 - val_loss: 0.9701 - val_accuracy: 0.6856\n",
      "Epoch 11/1000\n",
      "21/29 [====================>.........] - ETA: 0s - loss: 1.0687 - accuracy: 0.5279\n",
      "Epoch 11: saving model to model/keypoint_classifier\\keypoint_classifier.hdf5\n",
      "29/29 [==============================] - 0s 12ms/step - loss: 1.0714 - accuracy: 0.5269 - val_loss: 0.9375 - val_accuracy: 0.6856\n",
      "Epoch 12/1000\n",
      "26/29 [=========================>....] - ETA: 0s - loss: 1.0499 - accuracy: 0.5385\n",
      "Epoch 12: saving model to model/keypoint_classifier\\keypoint_classifier.hdf5\n",
      "29/29 [==============================] - 0s 13ms/step - loss: 1.0499 - accuracy: 0.5382 - val_loss: 0.9039 - val_accuracy: 0.6840\n",
      "Epoch 13/1000\n",
      "28/29 [===========================>..] - ETA: 0s - loss: 1.0270 - accuracy: 0.5474\n",
      "Epoch 13: saving model to model/keypoint_classifier\\keypoint_classifier.hdf5\n",
      "29/29 [==============================] - 0s 13ms/step - loss: 1.0265 - accuracy: 0.5469 - val_loss: 0.8663 - val_accuracy: 0.7115\n",
      "Epoch 14/1000\n",
      "28/29 [===========================>..] - ETA: 0s - loss: 1.0074 - accuracy: 0.5580\n",
      "Epoch 14: saving model to model/keypoint_classifier\\keypoint_classifier.hdf5\n",
      "29/29 [==============================] - 0s 12ms/step - loss: 1.0088 - accuracy: 0.5566 - val_loss: 0.8367 - val_accuracy: 0.7245\n",
      "Epoch 15/1000\n",
      "25/29 [========================>.....] - ETA: 0s - loss: 0.9847 - accuracy: 0.5788\n",
      "Epoch 15: saving model to model/keypoint_classifier\\keypoint_classifier.hdf5\n",
      "29/29 [==============================] - 0s 14ms/step - loss: 0.9841 - accuracy: 0.5809 - val_loss: 0.8081 - val_accuracy: 0.7496\n",
      "Epoch 16/1000\n",
      "21/29 [====================>.........] - ETA: 0s - loss: 0.9447 - accuracy: 0.5975\n",
      "Epoch 16: saving model to model/keypoint_classifier\\keypoint_classifier.hdf5\n",
      "29/29 [==============================] - 0s 12ms/step - loss: 0.9481 - accuracy: 0.5990 - val_loss: 0.7810 - val_accuracy: 0.7942\n",
      "Epoch 17/1000\n",
      "29/29 [==============================] - ETA: 0s - loss: 0.9504 - accuracy: 0.6106\n",
      "Epoch 17: saving model to model/keypoint_classifier\\keypoint_classifier.hdf5\n",
      "29/29 [==============================] - 0s 13ms/step - loss: 0.9504 - accuracy: 0.6106 - val_loss: 0.7530 - val_accuracy: 0.7982\n",
      "Epoch 18/1000\n",
      "19/29 [==================>...........] - ETA: 0s - loss: 0.9237 - accuracy: 0.6160\n",
      "Epoch 18: saving model to model/keypoint_classifier\\keypoint_classifier.hdf5\n",
      "29/29 [==============================] - 0s 12ms/step - loss: 0.9210 - accuracy: 0.6117 - val_loss: 0.7291 - val_accuracy: 0.8088\n",
      "Epoch 19/1000\n",
      "23/29 [======================>.......] - ETA: 0s - loss: 0.9029 - accuracy: 0.6284\n",
      "Epoch 19: saving model to model/keypoint_classifier\\keypoint_classifier.hdf5\n",
      "29/29 [==============================] - 0s 12ms/step - loss: 0.9048 - accuracy: 0.6293 - val_loss: 0.7003 - val_accuracy: 0.8128\n",
      "Epoch 20/1000\n",
      "21/29 [====================>.........] - ETA: 0s - loss: 0.9169 - accuracy: 0.6112\n",
      "Epoch 20: saving model to model/keypoint_classifier\\keypoint_classifier.hdf5\n",
      "29/29 [==============================] - 0s 13ms/step - loss: 0.9050 - accuracy: 0.6190 - val_loss: 0.6800 - val_accuracy: 0.8225\n",
      "Epoch 21/1000\n",
      "26/29 [=========================>....] - ETA: 0s - loss: 0.8843 - accuracy: 0.6337\n",
      "Epoch 21: saving model to model/keypoint_classifier\\keypoint_classifier.hdf5\n",
      "29/29 [==============================] - 0s 13ms/step - loss: 0.8807 - accuracy: 0.6358 - val_loss: 0.6606 - val_accuracy: 0.8233\n",
      "Epoch 22/1000\n",
      "28/29 [===========================>..] - ETA: 0s - loss: 0.8646 - accuracy: 0.6401\n",
      "Epoch 22: saving model to model/keypoint_classifier\\keypoint_classifier.hdf5\n",
      "29/29 [==============================] - 0s 13ms/step - loss: 0.8665 - accuracy: 0.6387 - val_loss: 0.6369 - val_accuracy: 0.8306\n",
      "Epoch 23/1000\n",
      "28/29 [===========================>..] - ETA: 0s - loss: 0.8539 - accuracy: 0.6468\n",
      "Epoch 23: saving model to model/keypoint_classifier\\keypoint_classifier.hdf5\n",
      "29/29 [==============================] - 0s 14ms/step - loss: 0.8520 - accuracy: 0.6471 - val_loss: 0.6202 - val_accuracy: 0.8323\n",
      "Epoch 24/1000\n",
      "25/29 [========================>.....] - ETA: 0s - loss: 0.8465 - accuracy: 0.6494\n",
      "Epoch 24: saving model to model/keypoint_classifier\\keypoint_classifier.hdf5\n",
      "29/29 [==============================] - 0s 14ms/step - loss: 0.8513 - accuracy: 0.6463 - val_loss: 0.6073 - val_accuracy: 0.8323\n",
      "Epoch 25/1000\n",
      "29/29 [==============================] - ETA: 0s - loss: 0.8387 - accuracy: 0.6544\n",
      "Epoch 25: saving model to model/keypoint_classifier\\keypoint_classifier.hdf5\n",
      "29/29 [==============================] - 0s 13ms/step - loss: 0.8387 - accuracy: 0.6544 - val_loss: 0.5926 - val_accuracy: 0.8355\n",
      "Epoch 26/1000\n",
      "27/29 [==========================>...] - ETA: 0s - loss: 0.8417 - accuracy: 0.6427\n",
      "Epoch 26: saving model to model/keypoint_classifier\\keypoint_classifier.hdf5\n",
      "29/29 [==============================] - 0s 13ms/step - loss: 0.8372 - accuracy: 0.6458 - val_loss: 0.5808 - val_accuracy: 0.8404\n",
      "Epoch 27/1000\n",
      "26/29 [=========================>....] - ETA: 0s - loss: 0.8272 - accuracy: 0.6659\n",
      "Epoch 27: saving model to model/keypoint_classifier\\keypoint_classifier.hdf5\n",
      "29/29 [==============================] - 0s 13ms/step - loss: 0.8222 - accuracy: 0.6687 - val_loss: 0.5716 - val_accuracy: 0.8476\n",
      "Epoch 28/1000\n"
     ]
    },
    {
     "name": "stdout",
     "output_type": "stream",
     "text": [
      "27/29 [==========================>...] - ETA: 0s - loss: 0.8160 - accuracy: 0.6557\n",
      "Epoch 28: saving model to model/keypoint_classifier\\keypoint_classifier.hdf5\n",
      "29/29 [==============================] - 0s 13ms/step - loss: 0.8181 - accuracy: 0.6566 - val_loss: 0.5648 - val_accuracy: 0.8468\n",
      "Epoch 29/1000\n",
      "20/29 [===================>..........] - ETA: 0s - loss: 0.8202 - accuracy: 0.6621\n",
      "Epoch 29: saving model to model/keypoint_classifier\\keypoint_classifier.hdf5\n",
      "29/29 [==============================] - 0s 13ms/step - loss: 0.8090 - accuracy: 0.6650 - val_loss: 0.5451 - val_accuracy: 0.8509\n",
      "Epoch 30/1000\n",
      "18/29 [=================>............] - ETA: 0s - loss: 0.8026 - accuracy: 0.6615\n",
      "Epoch 30: saving model to model/keypoint_classifier\\keypoint_classifier.hdf5\n",
      "29/29 [==============================] - 0s 13ms/step - loss: 0.7979 - accuracy: 0.6685 - val_loss: 0.5396 - val_accuracy: 0.8574\n",
      "Epoch 31/1000\n",
      "28/29 [===========================>..] - ETA: 0s - loss: 0.7767 - accuracy: 0.6978\n",
      "Epoch 31: saving model to model/keypoint_classifier\\keypoint_classifier.hdf5\n",
      "29/29 [==============================] - 0s 13ms/step - loss: 0.7763 - accuracy: 0.6985 - val_loss: 0.5292 - val_accuracy: 0.8606\n",
      "Epoch 32/1000\n",
      "25/29 [========================>.....] - ETA: 0s - loss: 0.7700 - accuracy: 0.6909\n",
      "Epoch 32: saving model to model/keypoint_classifier\\keypoint_classifier.hdf5\n",
      "29/29 [==============================] - 0s 13ms/step - loss: 0.7732 - accuracy: 0.6874 - val_loss: 0.5080 - val_accuracy: 0.8639\n",
      "Epoch 33/1000\n",
      "26/29 [=========================>....] - ETA: 0s - loss: 0.7946 - accuracy: 0.6890\n",
      "Epoch 33: saving model to model/keypoint_classifier\\keypoint_classifier.hdf5\n",
      "29/29 [==============================] - 0s 13ms/step - loss: 0.7888 - accuracy: 0.6901 - val_loss: 0.5088 - val_accuracy: 0.8663\n",
      "Epoch 34/1000\n",
      "24/29 [=======================>......] - ETA: 0s - loss: 0.7760 - accuracy: 0.6852\n",
      "Epoch 34: saving model to model/keypoint_classifier\\keypoint_classifier.hdf5\n",
      "29/29 [==============================] - 0s 14ms/step - loss: 0.7702 - accuracy: 0.6863 - val_loss: 0.4952 - val_accuracy: 0.8655\n",
      "Epoch 35/1000\n",
      "25/29 [========================>.....] - ETA: 0s - loss: 0.7608 - accuracy: 0.6891\n",
      "Epoch 35: saving model to model/keypoint_classifier\\keypoint_classifier.hdf5\n",
      "29/29 [==============================] - 0s 13ms/step - loss: 0.7582 - accuracy: 0.6906 - val_loss: 0.4895 - val_accuracy: 0.8752\n",
      "Epoch 36/1000\n",
      "27/29 [==========================>...] - ETA: 0s - loss: 0.7421 - accuracy: 0.7054\n",
      "Epoch 36: saving model to model/keypoint_classifier\\keypoint_classifier.hdf5\n",
      "29/29 [==============================] - 0s 13ms/step - loss: 0.7415 - accuracy: 0.7060 - val_loss: 0.4751 - val_accuracy: 0.8752\n",
      "Epoch 37/1000\n",
      "29/29 [==============================] - ETA: 0s - loss: 0.7458 - accuracy: 0.7006\n",
      "Epoch 37: saving model to model/keypoint_classifier\\keypoint_classifier.hdf5\n",
      "29/29 [==============================] - 0s 13ms/step - loss: 0.7458 - accuracy: 0.7006 - val_loss: 0.4704 - val_accuracy: 0.8817\n",
      "Epoch 38/1000\n",
      "27/29 [==========================>...] - ETA: 0s - loss: 0.7635 - accuracy: 0.6927\n",
      "Epoch 38: saving model to model/keypoint_classifier\\keypoint_classifier.hdf5\n",
      "29/29 [==============================] - 0s 14ms/step - loss: 0.7649 - accuracy: 0.6917 - val_loss: 0.4703 - val_accuracy: 0.8849\n",
      "Epoch 39/1000\n",
      "26/29 [=========================>....] - ETA: 0s - loss: 0.7364 - accuracy: 0.7043\n",
      "Epoch 39: saving model to model/keypoint_classifier\\keypoint_classifier.hdf5\n",
      "29/29 [==============================] - 0s 13ms/step - loss: 0.7328 - accuracy: 0.7041 - val_loss: 0.4642 - val_accuracy: 0.8914\n",
      "Epoch 40/1000\n",
      "27/29 [==========================>...] - ETA: 0s - loss: 0.7377 - accuracy: 0.6997\n",
      "Epoch 40: saving model to model/keypoint_classifier\\keypoint_classifier.hdf5\n",
      "29/29 [==============================] - 0s 13ms/step - loss: 0.7378 - accuracy: 0.7001 - val_loss: 0.4569 - val_accuracy: 0.8906\n",
      "Epoch 41/1000\n",
      "26/29 [=========================>....] - ETA: 0s - loss: 0.7387 - accuracy: 0.7016\n",
      "Epoch 41: saving model to model/keypoint_classifier\\keypoint_classifier.hdf5\n",
      "29/29 [==============================] - 0s 13ms/step - loss: 0.7297 - accuracy: 0.7076 - val_loss: 0.4525 - val_accuracy: 0.8922\n",
      "Epoch 42/1000\n",
      "28/29 [===========================>..] - ETA: 0s - loss: 0.7220 - accuracy: 0.7134\n",
      "Epoch 42: saving model to model/keypoint_classifier\\keypoint_classifier.hdf5\n",
      "29/29 [==============================] - 0s 13ms/step - loss: 0.7259 - accuracy: 0.7112 - val_loss: 0.4437 - val_accuracy: 0.8874\n",
      "Epoch 43/1000\n",
      "22/29 [=====================>........] - ETA: 0s - loss: 0.7228 - accuracy: 0.7060\n",
      "Epoch 43: saving model to model/keypoint_classifier\\keypoint_classifier.hdf5\n",
      "29/29 [==============================] - 0s 14ms/step - loss: 0.7128 - accuracy: 0.7120 - val_loss: 0.4332 - val_accuracy: 0.8922\n",
      "Epoch 44/1000\n",
      "26/29 [=========================>....] - ETA: 0s - loss: 0.7182 - accuracy: 0.7139\n",
      "Epoch 44: saving model to model/keypoint_classifier\\keypoint_classifier.hdf5\n",
      "29/29 [==============================] - 0s 13ms/step - loss: 0.7152 - accuracy: 0.7139 - val_loss: 0.4327 - val_accuracy: 0.8979\n",
      "Epoch 45/1000\n",
      "26/29 [=========================>....] - ETA: 0s - loss: 0.7046 - accuracy: 0.7242\n",
      "Epoch 45: saving model to model/keypoint_classifier\\keypoint_classifier.hdf5\n",
      "29/29 [==============================] - 0s 14ms/step - loss: 0.7133 - accuracy: 0.7171 - val_loss: 0.4261 - val_accuracy: 0.9011\n",
      "Epoch 46/1000\n",
      "28/29 [===========================>..] - ETA: 0s - loss: 0.6831 - accuracy: 0.7257\n",
      "Epoch 46: saving model to model/keypoint_classifier\\keypoint_classifier.hdf5\n",
      "29/29 [==============================] - 0s 13ms/step - loss: 0.6843 - accuracy: 0.7249 - val_loss: 0.4160 - val_accuracy: 0.8995\n",
      "Epoch 47/1000\n",
      "19/29 [==================>...........] - ETA: 0s - loss: 0.7072 - accuracy: 0.7183\n",
      "Epoch 47: saving model to model/keypoint_classifier\\keypoint_classifier.hdf5\n",
      "29/29 [==============================] - 0s 13ms/step - loss: 0.7115 - accuracy: 0.7174 - val_loss: 0.4124 - val_accuracy: 0.8987\n",
      "Epoch 48/1000\n",
      "20/29 [===================>..........] - ETA: 0s - loss: 0.7030 - accuracy: 0.7098\n",
      "Epoch 48: saving model to model/keypoint_classifier\\keypoint_classifier.hdf5\n",
      "29/29 [==============================] - 0s 15ms/step - loss: 0.7066 - accuracy: 0.7117 - val_loss: 0.4137 - val_accuracy: 0.8971\n",
      "Epoch 49/1000\n",
      "27/29 [==========================>...] - ETA: 0s - loss: 0.7012 - accuracy: 0.7286\n",
      "Epoch 49: saving model to model/keypoint_classifier\\keypoint_classifier.hdf5\n",
      "29/29 [==============================] - 0s 13ms/step - loss: 0.6995 - accuracy: 0.7298 - val_loss: 0.4063 - val_accuracy: 0.8987\n",
      "Epoch 50/1000\n",
      "21/29 [====================>.........] - ETA: 0s - loss: 0.6896 - accuracy: 0.7243\n",
      "Epoch 50: saving model to model/keypoint_classifier\\keypoint_classifier.hdf5\n",
      "29/29 [==============================] - 0s 12ms/step - loss: 0.6882 - accuracy: 0.7285 - val_loss: 0.4053 - val_accuracy: 0.8914\n",
      "Epoch 51/1000\n",
      "27/29 [==========================>...] - ETA: 0s - loss: 0.6948 - accuracy: 0.7222\n",
      "Epoch 51: saving model to model/keypoint_classifier\\keypoint_classifier.hdf5\n",
      "29/29 [==============================] - 0s 16ms/step - loss: 0.6929 - accuracy: 0.7222 - val_loss: 0.4091 - val_accuracy: 0.8995\n",
      "Epoch 52/1000\n",
      "28/29 [===========================>..] - ETA: 0s - loss: 0.6878 - accuracy: 0.7358\n",
      "Epoch 52: saving model to model/keypoint_classifier\\keypoint_classifier.hdf5\n",
      "29/29 [==============================] - 0s 13ms/step - loss: 0.6862 - accuracy: 0.7360 - val_loss: 0.3917 - val_accuracy: 0.8987\n",
      "Epoch 53/1000\n",
      "26/29 [=========================>....] - ETA: 0s - loss: 0.6848 - accuracy: 0.7335\n",
      "Epoch 53: saving model to model/keypoint_classifier\\keypoint_classifier.hdf5\n",
      "29/29 [==============================] - 0s 13ms/step - loss: 0.6848 - accuracy: 0.7312 - val_loss: 0.3969 - val_accuracy: 0.9028\n",
      "Epoch 54/1000\n",
      "25/29 [========================>.....] - ETA: 0s - loss: 0.7039 - accuracy: 0.7262\n",
      "Epoch 54: saving model to model/keypoint_classifier\\keypoint_classifier.hdf5\n",
      "29/29 [==============================] - 0s 13ms/step - loss: 0.6948 - accuracy: 0.7279 - val_loss: 0.3895 - val_accuracy: 0.8874\n"
     ]
    },
    {
     "name": "stdout",
     "output_type": "stream",
     "text": [
      "Epoch 55/1000\n",
      "28/29 [===========================>..] - ETA: 0s - loss: 0.6715 - accuracy: 0.7436\n",
      "Epoch 55: saving model to model/keypoint_classifier\\keypoint_classifier.hdf5\n",
      "29/29 [==============================] - 0s 12ms/step - loss: 0.6698 - accuracy: 0.7441 - val_loss: 0.3788 - val_accuracy: 0.9068\n",
      "Epoch 56/1000\n",
      "25/29 [========================>.....] - ETA: 0s - loss: 0.6555 - accuracy: 0.7437\n",
      "Epoch 56: saving model to model/keypoint_classifier\\keypoint_classifier.hdf5\n",
      "29/29 [==============================] - 0s 13ms/step - loss: 0.6572 - accuracy: 0.7439 - val_loss: 0.3749 - val_accuracy: 0.8995\n",
      "Epoch 57/1000\n",
      "26/29 [=========================>....] - ETA: 0s - loss: 0.6480 - accuracy: 0.7431\n",
      "Epoch 57: saving model to model/keypoint_classifier\\keypoint_classifier.hdf5\n",
      "29/29 [==============================] - 0s 14ms/step - loss: 0.6573 - accuracy: 0.7387 - val_loss: 0.3701 - val_accuracy: 0.9036\n",
      "Epoch 58/1000\n",
      "21/29 [====================>.........] - ETA: 0s - loss: 0.6720 - accuracy: 0.7355\n",
      "Epoch 58: saving model to model/keypoint_classifier\\keypoint_classifier.hdf5\n",
      "29/29 [==============================] - 0s 15ms/step - loss: 0.6695 - accuracy: 0.7390 - val_loss: 0.3729 - val_accuracy: 0.9003\n",
      "Epoch 59/1000\n",
      "28/29 [===========================>..] - ETA: 0s - loss: 0.6499 - accuracy: 0.7480\n",
      "Epoch 59: saving model to model/keypoint_classifier\\keypoint_classifier.hdf5\n",
      "29/29 [==============================] - 0s 13ms/step - loss: 0.6470 - accuracy: 0.7511 - val_loss: 0.3637 - val_accuracy: 0.9044\n",
      "Epoch 60/1000\n",
      "29/29 [==============================] - ETA: 0s - loss: 0.6753 - accuracy: 0.7328\n",
      "Epoch 60: saving model to model/keypoint_classifier\\keypoint_classifier.hdf5\n",
      "29/29 [==============================] - 0s 12ms/step - loss: 0.6753 - accuracy: 0.7328 - val_loss: 0.3724 - val_accuracy: 0.9076\n",
      "Epoch 61/1000\n",
      "20/29 [===================>..........] - ETA: 0s - loss: 0.6616 - accuracy: 0.7379\n",
      "Epoch 61: saving model to model/keypoint_classifier\\keypoint_classifier.hdf5\n",
      "29/29 [==============================] - 0s 12ms/step - loss: 0.6596 - accuracy: 0.7455 - val_loss: 0.3635 - val_accuracy: 0.9068\n",
      "Epoch 62/1000\n",
      "29/29 [==============================] - ETA: 0s - loss: 0.6607 - accuracy: 0.7487\n",
      "Epoch 62: saving model to model/keypoint_classifier\\keypoint_classifier.hdf5\n",
      "29/29 [==============================] - 0s 13ms/step - loss: 0.6607 - accuracy: 0.7487 - val_loss: 0.3668 - val_accuracy: 0.8987\n",
      "Epoch 63/1000\n",
      "21/29 [====================>.........] - ETA: 0s - loss: 0.6798 - accuracy: 0.7452\n",
      "Epoch 63: saving model to model/keypoint_classifier\\keypoint_classifier.hdf5\n",
      "29/29 [==============================] - 0s 12ms/step - loss: 0.6624 - accuracy: 0.7511 - val_loss: 0.3673 - val_accuracy: 0.9060\n",
      "Epoch 64/1000\n",
      "20/29 [===================>..........] - ETA: 0s - loss: 0.6552 - accuracy: 0.7445\n",
      "Epoch 64: saving model to model/keypoint_classifier\\keypoint_classifier.hdf5\n",
      "29/29 [==============================] - 0s 12ms/step - loss: 0.6536 - accuracy: 0.7466 - val_loss: 0.3593 - val_accuracy: 0.9182\n",
      "Epoch 65/1000\n",
      "20/29 [===================>..........] - ETA: 0s - loss: 0.6426 - accuracy: 0.7563\n",
      "Epoch 65: saving model to model/keypoint_classifier\\keypoint_classifier.hdf5\n",
      "29/29 [==============================] - 0s 13ms/step - loss: 0.6546 - accuracy: 0.7549 - val_loss: 0.3650 - val_accuracy: 0.9052\n",
      "Epoch 66/1000\n",
      "19/29 [==================>...........] - ETA: 0s - loss: 0.6566 - accuracy: 0.7459\n",
      "Epoch 66: saving model to model/keypoint_classifier\\keypoint_classifier.hdf5\n",
      "29/29 [==============================] - 0s 13ms/step - loss: 0.6564 - accuracy: 0.7522 - val_loss: 0.3605 - val_accuracy: 0.9149\n",
      "Epoch 67/1000\n",
      "28/29 [===========================>..] - ETA: 0s - loss: 0.6649 - accuracy: 0.7480\n",
      "Epoch 67: saving model to model/keypoint_classifier\\keypoint_classifier.hdf5\n",
      "29/29 [==============================] - 0s 13ms/step - loss: 0.6672 - accuracy: 0.7460 - val_loss: 0.3588 - val_accuracy: 0.9028\n",
      "Epoch 68/1000\n",
      "28/29 [===========================>..] - ETA: 0s - loss: 0.6480 - accuracy: 0.7531\n",
      "Epoch 68: saving model to model/keypoint_classifier\\keypoint_classifier.hdf5\n",
      "29/29 [==============================] - 0s 13ms/step - loss: 0.6434 - accuracy: 0.7549 - val_loss: 0.3595 - val_accuracy: 0.9084\n",
      "Epoch 69/1000\n",
      "20/29 [===================>..........] - ETA: 0s - loss: 0.6356 - accuracy: 0.7543\n",
      "Epoch 69: saving model to model/keypoint_classifier\\keypoint_classifier.hdf5\n",
      "29/29 [==============================] - 0s 12ms/step - loss: 0.6379 - accuracy: 0.7536 - val_loss: 0.3556 - val_accuracy: 0.9173\n",
      "Epoch 70/1000\n",
      "29/29 [==============================] - ETA: 0s - loss: 0.6475 - accuracy: 0.7566\n",
      "Epoch 70: saving model to model/keypoint_classifier\\keypoint_classifier.hdf5\n",
      "29/29 [==============================] - 0s 13ms/step - loss: 0.6475 - accuracy: 0.7566 - val_loss: 0.3623 - val_accuracy: 0.9149\n",
      "Epoch 71/1000\n",
      "20/29 [===================>..........] - ETA: 0s - loss: 0.6414 - accuracy: 0.7527\n",
      "Epoch 71: saving model to model/keypoint_classifier\\keypoint_classifier.hdf5\n",
      "29/29 [==============================] - 0s 14ms/step - loss: 0.6414 - accuracy: 0.7571 - val_loss: 0.3597 - val_accuracy: 0.9100\n",
      "Epoch 72/1000\n",
      "20/29 [===================>..........] - ETA: 0s - loss: 0.6284 - accuracy: 0.7594\n",
      "Epoch 72: saving model to model/keypoint_classifier\\keypoint_classifier.hdf5\n",
      "29/29 [==============================] - 0s 13ms/step - loss: 0.6295 - accuracy: 0.7611 - val_loss: 0.3422 - val_accuracy: 0.9149\n",
      "Epoch 73/1000\n",
      "29/29 [==============================] - ETA: 0s - loss: 0.6304 - accuracy: 0.7611\n",
      "Epoch 73: saving model to model/keypoint_classifier\\keypoint_classifier.hdf5\n",
      "29/29 [==============================] - 0s 13ms/step - loss: 0.6304 - accuracy: 0.7611 - val_loss: 0.3443 - val_accuracy: 0.9263\n",
      "Epoch 74/1000\n",
      "28/29 [===========================>..] - ETA: 0s - loss: 0.6370 - accuracy: 0.7570\n",
      "Epoch 74: saving model to model/keypoint_classifier\\keypoint_classifier.hdf5\n",
      "29/29 [==============================] - 0s 13ms/step - loss: 0.6352 - accuracy: 0.7563 - val_loss: 0.3422 - val_accuracy: 0.9173\n",
      "Epoch 75/1000\n",
      "29/29 [==============================] - ETA: 0s - loss: 0.6196 - accuracy: 0.7717\n",
      "Epoch 75: saving model to model/keypoint_classifier\\keypoint_classifier.hdf5\n",
      "29/29 [==============================] - 0s 13ms/step - loss: 0.6196 - accuracy: 0.7717 - val_loss: 0.3395 - val_accuracy: 0.9279\n",
      "Epoch 76/1000\n",
      "29/29 [==============================] - ETA: 0s - loss: 0.6477 - accuracy: 0.7533\n",
      "Epoch 76: saving model to model/keypoint_classifier\\keypoint_classifier.hdf5\n",
      "29/29 [==============================] - 0s 14ms/step - loss: 0.6477 - accuracy: 0.7533 - val_loss: 0.3465 - val_accuracy: 0.9190\n",
      "Epoch 77/1000\n",
      "28/29 [===========================>..] - ETA: 0s - loss: 0.6315 - accuracy: 0.7681\n",
      "Epoch 77: saving model to model/keypoint_classifier\\keypoint_classifier.hdf5\n",
      "29/29 [==============================] - 0s 13ms/step - loss: 0.6311 - accuracy: 0.7682 - val_loss: 0.3296 - val_accuracy: 0.9376\n",
      "Epoch 78/1000\n",
      "28/29 [===========================>..] - ETA: 0s - loss: 0.6271 - accuracy: 0.7603\n",
      "Epoch 78: saving model to model/keypoint_classifier\\keypoint_classifier.hdf5\n",
      "29/29 [==============================] - 0s 13ms/step - loss: 0.6279 - accuracy: 0.7603 - val_loss: 0.3410 - val_accuracy: 0.9287\n",
      "Epoch 79/1000\n",
      "20/29 [===================>..........] - ETA: 0s - loss: 0.6010 - accuracy: 0.7684\n",
      "Epoch 79: saving model to model/keypoint_classifier\\keypoint_classifier.hdf5\n",
      "29/29 [==============================] - 0s 13ms/step - loss: 0.6082 - accuracy: 0.7614 - val_loss: 0.3221 - val_accuracy: 0.9287\n",
      "Epoch 80/1000\n",
      "29/29 [==============================] - ETA: 0s - loss: 0.6330 - accuracy: 0.7563\n",
      "Epoch 80: saving model to model/keypoint_classifier\\keypoint_classifier.hdf5\n",
      "29/29 [==============================] - 0s 13ms/step - loss: 0.6330 - accuracy: 0.7563 - val_loss: 0.3312 - val_accuracy: 0.9295\n",
      "Epoch 81/1000\n",
      "27/29 [==========================>...] - ETA: 0s - loss: 0.6190 - accuracy: 0.7729\n",
      "Epoch 81: saving model to model/keypoint_classifier\\keypoint_classifier.hdf5\n",
      "29/29 [==============================] - 0s 13ms/step - loss: 0.6171 - accuracy: 0.7725 - val_loss: 0.3384 - val_accuracy: 0.9149\n"
     ]
    },
    {
     "name": "stdout",
     "output_type": "stream",
     "text": [
      "Epoch 82/1000\n",
      "25/29 [========================>.....] - ETA: 0s - loss: 0.6165 - accuracy: 0.7647\n",
      "Epoch 82: saving model to model/keypoint_classifier\\keypoint_classifier.hdf5\n",
      "29/29 [==============================] - 0s 15ms/step - loss: 0.6142 - accuracy: 0.7660 - val_loss: 0.3256 - val_accuracy: 0.9214\n",
      "Epoch 83/1000\n",
      "26/29 [=========================>....] - ETA: 0s - loss: 0.6087 - accuracy: 0.7719\n",
      "Epoch 83: saving model to model/keypoint_classifier\\keypoint_classifier.hdf5\n",
      "29/29 [==============================] - 0s 13ms/step - loss: 0.6087 - accuracy: 0.7728 - val_loss: 0.3394 - val_accuracy: 0.9165\n",
      "Epoch 84/1000\n",
      "28/29 [===========================>..] - ETA: 0s - loss: 0.6095 - accuracy: 0.7690\n",
      "Epoch 84: saving model to model/keypoint_classifier\\keypoint_classifier.hdf5\n",
      "29/29 [==============================] - 0s 13ms/step - loss: 0.6076 - accuracy: 0.7698 - val_loss: 0.3207 - val_accuracy: 0.9295\n",
      "Epoch 85/1000\n",
      "28/29 [===========================>..] - ETA: 0s - loss: 0.6230 - accuracy: 0.7665\n",
      "Epoch 85: saving model to model/keypoint_classifier\\keypoint_classifier.hdf5\n",
      "29/29 [==============================] - 0s 13ms/step - loss: 0.6210 - accuracy: 0.7663 - val_loss: 0.3245 - val_accuracy: 0.9263\n",
      "Epoch 86/1000\n",
      "21/29 [====================>.........] - ETA: 0s - loss: 0.6061 - accuracy: 0.7716\n",
      "Epoch 86: saving model to model/keypoint_classifier\\keypoint_classifier.hdf5\n",
      "29/29 [==============================] - 0s 12ms/step - loss: 0.6035 - accuracy: 0.7752 - val_loss: 0.3283 - val_accuracy: 0.9287\n",
      "Epoch 87/1000\n",
      "20/29 [===================>..........] - ETA: 0s - loss: 0.5940 - accuracy: 0.7762\n",
      "Epoch 87: saving model to model/keypoint_classifier\\keypoint_classifier.hdf5\n",
      "29/29 [==============================] - 0s 12ms/step - loss: 0.5976 - accuracy: 0.7760 - val_loss: 0.3166 - val_accuracy: 0.9295\n",
      "Epoch 88/1000\n",
      "20/29 [===================>..........] - ETA: 0s - loss: 0.5983 - accuracy: 0.7793\n",
      "Epoch 88: saving model to model/keypoint_classifier\\keypoint_classifier.hdf5\n",
      "29/29 [==============================] - 0s 13ms/step - loss: 0.6041 - accuracy: 0.7765 - val_loss: 0.3263 - val_accuracy: 0.9246\n",
      "Epoch 89/1000\n",
      "25/29 [========================>.....] - ETA: 0s - loss: 0.6187 - accuracy: 0.7713\n",
      "Epoch 89: saving model to model/keypoint_classifier\\keypoint_classifier.hdf5\n",
      "29/29 [==============================] - 0s 16ms/step - loss: 0.6173 - accuracy: 0.7709 - val_loss: 0.3293 - val_accuracy: 0.9206\n",
      "Epoch 90/1000\n",
      "24/29 [=======================>......] - ETA: 0s - loss: 0.6193 - accuracy: 0.7715\n",
      "Epoch 90: saving model to model/keypoint_classifier\\keypoint_classifier.hdf5\n",
      "29/29 [==============================] - 0s 14ms/step - loss: 0.6056 - accuracy: 0.7768 - val_loss: 0.3132 - val_accuracy: 0.9263\n",
      "Epoch 91/1000\n",
      "20/29 [===================>..........] - ETA: 0s - loss: 0.6072 - accuracy: 0.7637\n",
      "Epoch 91: saving model to model/keypoint_classifier\\keypoint_classifier.hdf5\n",
      "29/29 [==============================] - 0s 13ms/step - loss: 0.5995 - accuracy: 0.7625 - val_loss: 0.3202 - val_accuracy: 0.9279\n",
      "Epoch 92/1000\n",
      "20/29 [===================>..........] - ETA: 0s - loss: 0.6109 - accuracy: 0.7680\n",
      "Epoch 92: saving model to model/keypoint_classifier\\keypoint_classifier.hdf5\n",
      "29/29 [==============================] - 0s 12ms/step - loss: 0.5978 - accuracy: 0.7760 - val_loss: 0.3063 - val_accuracy: 0.9352\n",
      "Epoch 93/1000\n",
      "28/29 [===========================>..] - ETA: 0s - loss: 0.5857 - accuracy: 0.7840\n",
      "Epoch 93: saving model to model/keypoint_classifier\\keypoint_classifier.hdf5\n",
      "29/29 [==============================] - 0s 14ms/step - loss: 0.5877 - accuracy: 0.7822 - val_loss: 0.3087 - val_accuracy: 0.9392\n",
      "Epoch 94/1000\n",
      "25/29 [========================>.....] - ETA: 0s - loss: 0.5998 - accuracy: 0.7684\n",
      "Epoch 94: saving model to model/keypoint_classifier\\keypoint_classifier.hdf5\n",
      "29/29 [==============================] - 0s 14ms/step - loss: 0.5973 - accuracy: 0.7706 - val_loss: 0.3049 - val_accuracy: 0.9287\n",
      "Epoch 95/1000\n",
      "20/29 [===================>..........] - ETA: 0s - loss: 0.5829 - accuracy: 0.7750\n",
      "Epoch 95: saving model to model/keypoint_classifier\\keypoint_classifier.hdf5\n",
      "29/29 [==============================] - 0s 12ms/step - loss: 0.5936 - accuracy: 0.7747 - val_loss: 0.3063 - val_accuracy: 0.9368\n",
      "Epoch 96/1000\n",
      "28/29 [===========================>..] - ETA: 0s - loss: 0.5832 - accuracy: 0.7891\n",
      "Epoch 96: saving model to model/keypoint_classifier\\keypoint_classifier.hdf5\n",
      "29/29 [==============================] - 0s 13ms/step - loss: 0.5811 - accuracy: 0.7898 - val_loss: 0.3058 - val_accuracy: 0.9287\n",
      "Epoch 97/1000\n",
      "21/29 [====================>.........] - ETA: 0s - loss: 0.5846 - accuracy: 0.7727\n",
      "Epoch 97: saving model to model/keypoint_classifier\\keypoint_classifier.hdf5\n",
      "29/29 [==============================] - 0s 12ms/step - loss: 0.5900 - accuracy: 0.7728 - val_loss: 0.3042 - val_accuracy: 0.9271\n",
      "Epoch 98/1000\n",
      "21/29 [====================>.........] - ETA: 0s - loss: 0.5835 - accuracy: 0.7820\n",
      "Epoch 98: saving model to model/keypoint_classifier\\keypoint_classifier.hdf5\n",
      "29/29 [==============================] - 0s 12ms/step - loss: 0.5922 - accuracy: 0.7790 - val_loss: 0.3050 - val_accuracy: 0.9271\n",
      "Epoch 99/1000\n",
      "29/29 [==============================] - ETA: 0s - loss: 0.5814 - accuracy: 0.7801\n",
      "Epoch 99: saving model to model/keypoint_classifier\\keypoint_classifier.hdf5\n",
      "29/29 [==============================] - 0s 14ms/step - loss: 0.5814 - accuracy: 0.7801 - val_loss: 0.3050 - val_accuracy: 0.9279\n",
      "Epoch 100/1000\n",
      "28/29 [===========================>..] - ETA: 0s - loss: 0.5894 - accuracy: 0.7799\n",
      "Epoch 100: saving model to model/keypoint_classifier\\keypoint_classifier.hdf5\n",
      "29/29 [==============================] - 0s 13ms/step - loss: 0.5903 - accuracy: 0.7803 - val_loss: 0.3051 - val_accuracy: 0.9271\n",
      "Epoch 101/1000\n",
      "28/29 [===========================>..] - ETA: 0s - loss: 0.6110 - accuracy: 0.7779\n",
      "Epoch 101: saving model to model/keypoint_classifier\\keypoint_classifier.hdf5\n",
      "29/29 [==============================] - 0s 13ms/step - loss: 0.6107 - accuracy: 0.7776 - val_loss: 0.3095 - val_accuracy: 0.9303\n",
      "Epoch 102/1000\n",
      "28/29 [===========================>..] - ETA: 0s - loss: 0.5896 - accuracy: 0.7799\n",
      "Epoch 102: saving model to model/keypoint_classifier\\keypoint_classifier.hdf5\n",
      "29/29 [==============================] - 0s 13ms/step - loss: 0.5888 - accuracy: 0.7798 - val_loss: 0.2972 - val_accuracy: 0.9311\n",
      "Epoch 103/1000\n",
      "20/29 [===================>..........] - ETA: 0s - loss: 0.6002 - accuracy: 0.7785\n",
      "Epoch 103: saving model to model/keypoint_classifier\\keypoint_classifier.hdf5\n",
      "29/29 [==============================] - 0s 13ms/step - loss: 0.5991 - accuracy: 0.7782 - val_loss: 0.3003 - val_accuracy: 0.9360\n",
      "Epoch 104/1000\n",
      "20/29 [===================>..........] - ETA: 0s - loss: 0.6057 - accuracy: 0.7730\n",
      "Epoch 104: saving model to model/keypoint_classifier\\keypoint_classifier.hdf5\n",
      "29/29 [==============================] - 0s 12ms/step - loss: 0.6079 - accuracy: 0.7752 - val_loss: 0.2998 - val_accuracy: 0.9352\n",
      "Epoch 105/1000\n",
      "28/29 [===========================>..] - ETA: 0s - loss: 0.5947 - accuracy: 0.7801\n",
      "Epoch 105: saving model to model/keypoint_classifier\\keypoint_classifier.hdf5\n",
      "29/29 [==============================] - 0s 13ms/step - loss: 0.5962 - accuracy: 0.7795 - val_loss: 0.3018 - val_accuracy: 0.9376\n",
      "Epoch 106/1000\n",
      "20/29 [===================>..........] - ETA: 0s - loss: 0.5716 - accuracy: 0.7828\n",
      "Epoch 106: saving model to model/keypoint_classifier\\keypoint_classifier.hdf5\n",
      "29/29 [==============================] - 0s 12ms/step - loss: 0.5718 - accuracy: 0.7860 - val_loss: 0.2956 - val_accuracy: 0.9319\n",
      "Epoch 107/1000\n",
      "28/29 [===========================>..] - ETA: 0s - loss: 0.5823 - accuracy: 0.7835\n",
      "Epoch 107: saving model to model/keypoint_classifier\\keypoint_classifier.hdf5\n",
      "29/29 [==============================] - 0s 13ms/step - loss: 0.5812 - accuracy: 0.7836 - val_loss: 0.2952 - val_accuracy: 0.9400\n",
      "Epoch 108/1000\n",
      "27/29 [==========================>...] - ETA: 0s - loss: 0.5890 - accuracy: 0.7752\n",
      "Epoch 108: saving model to model/keypoint_classifier\\keypoint_classifier.hdf5\n",
      "29/29 [==============================] - 0s 13ms/step - loss: 0.5902 - accuracy: 0.7760 - val_loss: 0.2883 - val_accuracy: 0.9425\n"
     ]
    },
    {
     "name": "stdout",
     "output_type": "stream",
     "text": [
      "Epoch 109/1000\n",
      "20/29 [===================>..........] - ETA: 0s - loss: 0.5616 - accuracy: 0.7906\n",
      "Epoch 109: saving model to model/keypoint_classifier\\keypoint_classifier.hdf5\n",
      "29/29 [==============================] - 0s 12ms/step - loss: 0.5771 - accuracy: 0.7803 - val_loss: 0.3032 - val_accuracy: 0.9303\n",
      "Epoch 110/1000\n",
      "21/29 [====================>.........] - ETA: 0s - loss: 0.5839 - accuracy: 0.7786\n",
      "Epoch 110: saving model to model/keypoint_classifier\\keypoint_classifier.hdf5\n",
      "29/29 [==============================] - 0s 13ms/step - loss: 0.5867 - accuracy: 0.7768 - val_loss: 0.2809 - val_accuracy: 0.9457\n",
      "Epoch 111/1000\n",
      "29/29 [==============================] - ETA: 0s - loss: 0.5877 - accuracy: 0.7847\n",
      "Epoch 111: saving model to model/keypoint_classifier\\keypoint_classifier.hdf5\n",
      "29/29 [==============================] - 0s 13ms/step - loss: 0.5877 - accuracy: 0.7847 - val_loss: 0.2925 - val_accuracy: 0.9319\n",
      "Epoch 112/1000\n",
      "29/29 [==============================] - ETA: 0s - loss: 0.5819 - accuracy: 0.7833\n",
      "Epoch 112: saving model to model/keypoint_classifier\\keypoint_classifier.hdf5\n",
      "29/29 [==============================] - 0s 13ms/step - loss: 0.5819 - accuracy: 0.7833 - val_loss: 0.3001 - val_accuracy: 0.9271\n",
      "Epoch 113/1000\n",
      "20/29 [===================>..........] - ETA: 0s - loss: 0.5751 - accuracy: 0.7867\n",
      "Epoch 113: saving model to model/keypoint_classifier\\keypoint_classifier.hdf5\n",
      "29/29 [==============================] - 0s 12ms/step - loss: 0.5863 - accuracy: 0.7863 - val_loss: 0.2905 - val_accuracy: 0.9417\n",
      "Epoch 114/1000\n",
      "21/29 [====================>.........] - ETA: 0s - loss: 0.5726 - accuracy: 0.7943\n",
      "Epoch 114: saving model to model/keypoint_classifier\\keypoint_classifier.hdf5\n",
      "29/29 [==============================] - 0s 13ms/step - loss: 0.5639 - accuracy: 0.7960 - val_loss: 0.2863 - val_accuracy: 0.9417\n",
      "Epoch 115/1000\n",
      "26/29 [=========================>....] - ETA: 0s - loss: 0.5908 - accuracy: 0.7822\n",
      "Epoch 115: saving model to model/keypoint_classifier\\keypoint_classifier.hdf5\n",
      "29/29 [==============================] - 0s 14ms/step - loss: 0.5892 - accuracy: 0.7849 - val_loss: 0.2921 - val_accuracy: 0.9384\n",
      "Epoch 116/1000\n",
      "28/29 [===========================>..] - ETA: 0s - loss: 0.5732 - accuracy: 0.7938\n",
      "Epoch 116: saving model to model/keypoint_classifier\\keypoint_classifier.hdf5\n",
      "29/29 [==============================] - 0s 13ms/step - loss: 0.5708 - accuracy: 0.7944 - val_loss: 0.2851 - val_accuracy: 0.9417\n",
      "Epoch 117/1000\n",
      "27/29 [==========================>...] - ETA: 0s - loss: 0.5850 - accuracy: 0.7778\n",
      "Epoch 117: saving model to model/keypoint_classifier\\keypoint_classifier.hdf5\n",
      "29/29 [==============================] - 0s 14ms/step - loss: 0.5870 - accuracy: 0.7749 - val_loss: 0.2900 - val_accuracy: 0.9360\n",
      "Epoch 118/1000\n",
      "28/29 [===========================>..] - ETA: 0s - loss: 0.5847 - accuracy: 0.7849\n",
      "Epoch 118: saving model to model/keypoint_classifier\\keypoint_classifier.hdf5\n",
      "29/29 [==============================] - 0s 15ms/step - loss: 0.5820 - accuracy: 0.7849 - val_loss: 0.2983 - val_accuracy: 0.9295\n",
      "Epoch 119/1000\n",
      "26/29 [=========================>....] - ETA: 0s - loss: 0.5896 - accuracy: 0.7770\n",
      "Epoch 119: saving model to model/keypoint_classifier\\keypoint_classifier.hdf5\n",
      "29/29 [==============================] - 0s 15ms/step - loss: 0.5875 - accuracy: 0.7801 - val_loss: 0.2934 - val_accuracy: 0.9344\n",
      "Epoch 120/1000\n",
      "26/29 [=========================>....] - ETA: 0s - loss: 0.5575 - accuracy: 0.7942\n",
      "Epoch 120: saving model to model/keypoint_classifier\\keypoint_classifier.hdf5\n",
      "29/29 [==============================] - 0s 15ms/step - loss: 0.5594 - accuracy: 0.7933 - val_loss: 0.2738 - val_accuracy: 0.9481\n",
      "Epoch 121/1000\n",
      "28/29 [===========================>..] - ETA: 0s - loss: 0.5721 - accuracy: 0.7913\n",
      "Epoch 121: saving model to model/keypoint_classifier\\keypoint_classifier.hdf5\n",
      "29/29 [==============================] - 0s 14ms/step - loss: 0.5736 - accuracy: 0.7909 - val_loss: 0.2855 - val_accuracy: 0.9352\n",
      "Epoch 122/1000\n",
      "26/29 [=========================>....] - ETA: 0s - loss: 0.5695 - accuracy: 0.7879\n",
      "Epoch 122: saving model to model/keypoint_classifier\\keypoint_classifier.hdf5\n",
      "29/29 [==============================] - 0s 14ms/step - loss: 0.5647 - accuracy: 0.7901 - val_loss: 0.2858 - val_accuracy: 0.9335\n",
      "Epoch 123/1000\n",
      "29/29 [==============================] - ETA: 0s - loss: 0.5868 - accuracy: 0.7803\n",
      "Epoch 123: saving model to model/keypoint_classifier\\keypoint_classifier.hdf5\n",
      "29/29 [==============================] - 0s 13ms/step - loss: 0.5868 - accuracy: 0.7803 - val_loss: 0.2777 - val_accuracy: 0.9408\n",
      "Epoch 124/1000\n",
      "29/29 [==============================] - ETA: 0s - loss: 0.5945 - accuracy: 0.7833\n",
      "Epoch 124: saving model to model/keypoint_classifier\\keypoint_classifier.hdf5\n",
      "29/29 [==============================] - 0s 12ms/step - loss: 0.5945 - accuracy: 0.7833 - val_loss: 0.2847 - val_accuracy: 0.9392\n",
      "Epoch 125/1000\n",
      "20/29 [===================>..........] - ETA: 0s - loss: 0.5583 - accuracy: 0.7961\n",
      "Epoch 125: saving model to model/keypoint_classifier\\keypoint_classifier.hdf5\n",
      "29/29 [==============================] - 0s 12ms/step - loss: 0.5664 - accuracy: 0.7919 - val_loss: 0.2730 - val_accuracy: 0.9368\n",
      "Epoch 126/1000\n",
      "20/29 [===================>..........] - ETA: 0s - loss: 0.5563 - accuracy: 0.7934\n",
      "Epoch 126: saving model to model/keypoint_classifier\\keypoint_classifier.hdf5\n",
      "29/29 [==============================] - 0s 12ms/step - loss: 0.5764 - accuracy: 0.7857 - val_loss: 0.2818 - val_accuracy: 0.9352\n",
      "Epoch 127/1000\n",
      "20/29 [===================>..........] - ETA: 0s - loss: 0.5570 - accuracy: 0.7871\n",
      "Epoch 127: saving model to model/keypoint_classifier\\keypoint_classifier.hdf5\n",
      "29/29 [==============================] - 0s 13ms/step - loss: 0.5678 - accuracy: 0.7852 - val_loss: 0.2910 - val_accuracy: 0.9344\n",
      "Epoch 128/1000\n",
      "21/29 [====================>.........] - ETA: 0s - loss: 0.5701 - accuracy: 0.7909\n",
      "Epoch 128: saving model to model/keypoint_classifier\\keypoint_classifier.hdf5\n",
      "29/29 [==============================] - 0s 14ms/step - loss: 0.5615 - accuracy: 0.7933 - val_loss: 0.2801 - val_accuracy: 0.9368\n",
      "Epoch 129/1000\n",
      "28/29 [===========================>..] - ETA: 0s - loss: 0.5679 - accuracy: 0.7840\n",
      "Epoch 129: saving model to model/keypoint_classifier\\keypoint_classifier.hdf5\n",
      "29/29 [==============================] - 0s 13ms/step - loss: 0.5665 - accuracy: 0.7847 - val_loss: 0.2707 - val_accuracy: 0.9441\n",
      "Epoch 130/1000\n",
      "20/29 [===================>..........] - ETA: 0s - loss: 0.6061 - accuracy: 0.7699\n",
      "Epoch 130: saving model to model/keypoint_classifier\\keypoint_classifier.hdf5\n",
      "29/29 [==============================] - 0s 12ms/step - loss: 0.6008 - accuracy: 0.7733 - val_loss: 0.2834 - val_accuracy: 0.9368\n",
      "Epoch 131/1000\n",
      "28/29 [===========================>..] - ETA: 0s - loss: 0.5616 - accuracy: 0.7854\n",
      "Epoch 131: saving model to model/keypoint_classifier\\keypoint_classifier.hdf5\n",
      "29/29 [==============================] - 0s 13ms/step - loss: 0.5623 - accuracy: 0.7865 - val_loss: 0.2813 - val_accuracy: 0.9360\n",
      "Epoch 132/1000\n",
      "26/29 [=========================>....] - ETA: 0s - loss: 0.5609 - accuracy: 0.7879\n",
      "Epoch 132: saving model to model/keypoint_classifier\\keypoint_classifier.hdf5\n",
      "29/29 [==============================] - 0s 13ms/step - loss: 0.5619 - accuracy: 0.7903 - val_loss: 0.2822 - val_accuracy: 0.9335\n",
      "Epoch 133/1000\n",
      "28/29 [===========================>..] - ETA: 0s - loss: 0.5563 - accuracy: 0.7916\n",
      "Epoch 133: saving model to model/keypoint_classifier\\keypoint_classifier.hdf5\n",
      "29/29 [==============================] - 0s 13ms/step - loss: 0.5543 - accuracy: 0.7928 - val_loss: 0.2754 - val_accuracy: 0.9352\n",
      "Epoch 134/1000\n",
      "20/29 [===================>..........] - ETA: 0s - loss: 0.5718 - accuracy: 0.7758\n",
      "Epoch 134: saving model to model/keypoint_classifier\\keypoint_classifier.hdf5\n",
      "29/29 [==============================] - 0s 12ms/step - loss: 0.5740 - accuracy: 0.7787 - val_loss: 0.2935 - val_accuracy: 0.9246\n",
      "Epoch 135/1000\n",
      "20/29 [===================>..........] - ETA: 0s - loss: 0.5589 - accuracy: 0.7961\n",
      "Epoch 135: saving model to model/keypoint_classifier\\keypoint_classifier.hdf5\n",
      "29/29 [==============================] - 0s 12ms/step - loss: 0.5594 - accuracy: 0.7955 - val_loss: 0.2753 - val_accuracy: 0.9408\n"
     ]
    },
    {
     "name": "stdout",
     "output_type": "stream",
     "text": [
      "Epoch 136/1000\n",
      "20/29 [===================>..........] - ETA: 0s - loss: 0.5360 - accuracy: 0.7988\n",
      "Epoch 136: saving model to model/keypoint_classifier\\keypoint_classifier.hdf5\n",
      "29/29 [==============================] - 0s 12ms/step - loss: 0.5525 - accuracy: 0.7892 - val_loss: 0.2760 - val_accuracy: 0.9335\n",
      "Epoch 137/1000\n",
      "20/29 [===================>..........] - ETA: 0s - loss: 0.5660 - accuracy: 0.7895\n",
      "Epoch 137: saving model to model/keypoint_classifier\\keypoint_classifier.hdf5\n",
      "29/29 [==============================] - 0s 12ms/step - loss: 0.5697 - accuracy: 0.7868 - val_loss: 0.2630 - val_accuracy: 0.9425\n",
      "Epoch 138/1000\n",
      "20/29 [===================>..........] - ETA: 0s - loss: 0.5861 - accuracy: 0.7797\n",
      "Epoch 138: saving model to model/keypoint_classifier\\keypoint_classifier.hdf5\n",
      "29/29 [==============================] - 0s 12ms/step - loss: 0.5653 - accuracy: 0.7871 - val_loss: 0.2780 - val_accuracy: 0.9344\n",
      "Epoch 139/1000\n",
      "29/29 [==============================] - ETA: 0s - loss: 0.5739 - accuracy: 0.7863\n",
      "Epoch 139: saving model to model/keypoint_classifier\\keypoint_classifier.hdf5\n",
      "29/29 [==============================] - 0s 13ms/step - loss: 0.5739 - accuracy: 0.7863 - val_loss: 0.2822 - val_accuracy: 0.9327\n",
      "Epoch 140/1000\n",
      "20/29 [===================>..........] - ETA: 0s - loss: 0.5860 - accuracy: 0.7875\n",
      "Epoch 140: saving model to model/keypoint_classifier\\keypoint_classifier.hdf5\n",
      "29/29 [==============================] - 0s 12ms/step - loss: 0.5722 - accuracy: 0.7947 - val_loss: 0.2781 - val_accuracy: 0.9360\n",
      "Epoch 141/1000\n",
      "29/29 [==============================] - ETA: 0s - loss: 0.5504 - accuracy: 0.7930\n",
      "Epoch 141: saving model to model/keypoint_classifier\\keypoint_classifier.hdf5\n",
      "29/29 [==============================] - 0s 13ms/step - loss: 0.5504 - accuracy: 0.7930 - val_loss: 0.2710 - val_accuracy: 0.9400\n",
      "Epoch 142/1000\n",
      "19/29 [==================>...........] - ETA: 0s - loss: 0.5663 - accuracy: 0.7932\n",
      "Epoch 142: saving model to model/keypoint_classifier\\keypoint_classifier.hdf5\n",
      "29/29 [==============================] - 0s 12ms/step - loss: 0.5655 - accuracy: 0.7944 - val_loss: 0.2729 - val_accuracy: 0.9335\n",
      "Epoch 143/1000\n",
      "19/29 [==================>...........] - ETA: 0s - loss: 0.5331 - accuracy: 0.8113\n",
      "Epoch 143: saving model to model/keypoint_classifier\\keypoint_classifier.hdf5\n",
      "29/29 [==============================] - 0s 12ms/step - loss: 0.5529 - accuracy: 0.8003 - val_loss: 0.2673 - val_accuracy: 0.9368\n",
      "Epoch 144/1000\n",
      "21/29 [====================>.........] - ETA: 0s - loss: 0.5560 - accuracy: 0.7939\n",
      "Epoch 144: saving model to model/keypoint_classifier\\keypoint_classifier.hdf5\n",
      "29/29 [==============================] - 0s 13ms/step - loss: 0.5516 - accuracy: 0.7909 - val_loss: 0.2624 - val_accuracy: 0.9417\n",
      "Epoch 145/1000\n",
      "28/29 [===========================>..] - ETA: 0s - loss: 0.5488 - accuracy: 0.7849\n",
      "Epoch 145: saving model to model/keypoint_classifier\\keypoint_classifier.hdf5\n",
      "29/29 [==============================] - 0s 13ms/step - loss: 0.5476 - accuracy: 0.7857 - val_loss: 0.2764 - val_accuracy: 0.9368\n",
      "Epoch 146/1000\n",
      "21/29 [====================>.........] - ETA: 0s - loss: 0.5860 - accuracy: 0.7891\n",
      "Epoch 146: saving model to model/keypoint_classifier\\keypoint_classifier.hdf5\n",
      "29/29 [==============================] - 0s 12ms/step - loss: 0.5749 - accuracy: 0.7901 - val_loss: 0.2775 - val_accuracy: 0.9368\n",
      "Epoch 147/1000\n",
      "28/29 [===========================>..] - ETA: 0s - loss: 0.5623 - accuracy: 0.7910\n",
      "Epoch 147: saving model to model/keypoint_classifier\\keypoint_classifier.hdf5\n",
      "29/29 [==============================] - 0s 13ms/step - loss: 0.5598 - accuracy: 0.7930 - val_loss: 0.2710 - val_accuracy: 0.9384\n",
      "Epoch 148/1000\n",
      "20/29 [===================>..........] - ETA: 0s - loss: 0.5340 - accuracy: 0.8031\n",
      "Epoch 148: saving model to model/keypoint_classifier\\keypoint_classifier.hdf5\n",
      "29/29 [==============================] - 0s 12ms/step - loss: 0.5433 - accuracy: 0.7976 - val_loss: 0.2625 - val_accuracy: 0.9425\n",
      "Epoch 149/1000\n",
      "20/29 [===================>..........] - ETA: 0s - loss: 0.5548 - accuracy: 0.7898\n",
      "Epoch 149: saving model to model/keypoint_classifier\\keypoint_classifier.hdf5\n",
      "29/29 [==============================] - 0s 12ms/step - loss: 0.5625 - accuracy: 0.7882 - val_loss: 0.2840 - val_accuracy: 0.9279\n",
      "Epoch 150/1000\n",
      "20/29 [===================>..........] - ETA: 0s - loss: 0.5248 - accuracy: 0.8086\n",
      "Epoch 150: saving model to model/keypoint_classifier\\keypoint_classifier.hdf5\n",
      "29/29 [==============================] - 0s 12ms/step - loss: 0.5366 - accuracy: 0.7998 - val_loss: 0.2746 - val_accuracy: 0.9311\n",
      "Epoch 151/1000\n",
      "20/29 [===================>..........] - ETA: 0s - loss: 0.5683 - accuracy: 0.7883\n",
      "Epoch 151: saving model to model/keypoint_classifier\\keypoint_classifier.hdf5\n",
      "29/29 [==============================] - 0s 12ms/step - loss: 0.5557 - accuracy: 0.7957 - val_loss: 0.2775 - val_accuracy: 0.9344\n",
      "Epoch 152/1000\n",
      "21/29 [====================>.........] - ETA: 0s - loss: 0.5348 - accuracy: 0.7991\n",
      "Epoch 152: saving model to model/keypoint_classifier\\keypoint_classifier.hdf5\n",
      "29/29 [==============================] - 0s 12ms/step - loss: 0.5376 - accuracy: 0.7995 - val_loss: 0.2650 - val_accuracy: 0.9303\n",
      "Epoch 153/1000\n",
      "21/29 [====================>.........] - ETA: 0s - loss: 0.5385 - accuracy: 0.8073\n",
      "Epoch 153: saving model to model/keypoint_classifier\\keypoint_classifier.hdf5\n",
      "29/29 [==============================] - 0s 12ms/step - loss: 0.5276 - accuracy: 0.8073 - val_loss: 0.2627 - val_accuracy: 0.9417\n",
      "Epoch 154/1000\n",
      "29/29 [==============================] - ETA: 0s - loss: 0.5604 - accuracy: 0.7949\n",
      "Epoch 154: saving model to model/keypoint_classifier\\keypoint_classifier.hdf5\n",
      "29/29 [==============================] - 0s 13ms/step - loss: 0.5604 - accuracy: 0.7949 - val_loss: 0.2640 - val_accuracy: 0.9392\n",
      "Epoch 155/1000\n",
      "29/29 [==============================] - ETA: 0s - loss: 0.5608 - accuracy: 0.7914\n",
      "Epoch 155: saving model to model/keypoint_classifier\\keypoint_classifier.hdf5\n",
      "29/29 [==============================] - 0s 13ms/step - loss: 0.5608 - accuracy: 0.7914 - val_loss: 0.2619 - val_accuracy: 0.9408\n",
      "Epoch 156/1000\n",
      "29/29 [==============================] - ETA: 0s - loss: 0.5575 - accuracy: 0.7922\n",
      "Epoch 156: saving model to model/keypoint_classifier\\keypoint_classifier.hdf5\n",
      "29/29 [==============================] - 0s 14ms/step - loss: 0.5575 - accuracy: 0.7922 - val_loss: 0.2632 - val_accuracy: 0.9408\n",
      "Epoch 157/1000\n",
      "20/29 [===================>..........] - ETA: 0s - loss: 0.5687 - accuracy: 0.7801\n",
      "Epoch 157: saving model to model/keypoint_classifier\\keypoint_classifier.hdf5\n",
      "29/29 [==============================] - 0s 12ms/step - loss: 0.5675 - accuracy: 0.7836 - val_loss: 0.2717 - val_accuracy: 0.9392\n",
      "Epoch 158/1000\n",
      "21/29 [====================>.........] - ETA: 0s - loss: 0.5370 - accuracy: 0.8095\n",
      "Epoch 158: saving model to model/keypoint_classifier\\keypoint_classifier.hdf5\n",
      "29/29 [==============================] - 0s 12ms/step - loss: 0.5477 - accuracy: 0.8019 - val_loss: 0.2756 - val_accuracy: 0.9327\n",
      "Epoch 159/1000\n",
      "20/29 [===================>..........] - ETA: 0s - loss: 0.5464 - accuracy: 0.7945\n",
      "Epoch 159: saving model to model/keypoint_classifier\\keypoint_classifier.hdf5\n",
      "29/29 [==============================] - 0s 12ms/step - loss: 0.5371 - accuracy: 0.7995 - val_loss: 0.2707 - val_accuracy: 0.9319\n",
      "Epoch 160/1000\n",
      "28/29 [===========================>..] - ETA: 0s - loss: 0.5513 - accuracy: 0.7983\n",
      "Epoch 160: saving model to model/keypoint_classifier\\keypoint_classifier.hdf5\n",
      "29/29 [==============================] - 0s 13ms/step - loss: 0.5493 - accuracy: 0.7984 - val_loss: 0.2623 - val_accuracy: 0.9368\n",
      "Epoch 161/1000\n",
      "28/29 [===========================>..] - ETA: 0s - loss: 0.5343 - accuracy: 0.8005\n",
      "Epoch 161: saving model to model/keypoint_classifier\\keypoint_classifier.hdf5\n",
      "29/29 [==============================] - 0s 13ms/step - loss: 0.5349 - accuracy: 0.7992 - val_loss: 0.2544 - val_accuracy: 0.9433\n",
      "Epoch 162/1000\n",
      "29/29 [==============================] - ETA: 0s - loss: 0.5630 - accuracy: 0.7892\n",
      "Epoch 162: saving model to model/keypoint_classifier\\keypoint_classifier.hdf5\n",
      "29/29 [==============================] - 0s 13ms/step - loss: 0.5630 - accuracy: 0.7892 - val_loss: 0.2713 - val_accuracy: 0.9319\n"
     ]
    },
    {
     "name": "stdout",
     "output_type": "stream",
     "text": [
      "Epoch 163/1000\n",
      "29/29 [==============================] - ETA: 0s - loss: 0.5394 - accuracy: 0.7987\n",
      "Epoch 163: saving model to model/keypoint_classifier\\keypoint_classifier.hdf5\n",
      "29/29 [==============================] - 0s 13ms/step - loss: 0.5394 - accuracy: 0.7987 - val_loss: 0.2630 - val_accuracy: 0.9400\n",
      "Epoch 164/1000\n",
      "21/29 [====================>.........] - ETA: 0s - loss: 0.5430 - accuracy: 0.8069\n",
      "Epoch 164: saving model to model/keypoint_classifier\\keypoint_classifier.hdf5\n",
      "29/29 [==============================] - 0s 12ms/step - loss: 0.5390 - accuracy: 0.8052 - val_loss: 0.2650 - val_accuracy: 0.9392\n",
      "Epoch 165/1000\n",
      "20/29 [===================>..........] - ETA: 0s - loss: 0.5597 - accuracy: 0.8008\n",
      "Epoch 165: saving model to model/keypoint_classifier\\keypoint_classifier.hdf5\n",
      "29/29 [==============================] - 0s 12ms/step - loss: 0.5588 - accuracy: 0.7987 - val_loss: 0.2708 - val_accuracy: 0.9344\n",
      "Epoch 166/1000\n",
      "28/29 [===========================>..] - ETA: 0s - loss: 0.5325 - accuracy: 0.7980\n",
      "Epoch 166: saving model to model/keypoint_classifier\\keypoint_classifier.hdf5\n",
      "29/29 [==============================] - 0s 13ms/step - loss: 0.5325 - accuracy: 0.7974 - val_loss: 0.2634 - val_accuracy: 0.9400\n",
      "Epoch 167/1000\n",
      "28/29 [===========================>..] - ETA: 0s - loss: 0.5574 - accuracy: 0.7916\n",
      "Epoch 167: saving model to model/keypoint_classifier\\keypoint_classifier.hdf5\n",
      "29/29 [==============================] - 0s 13ms/step - loss: 0.5562 - accuracy: 0.7928 - val_loss: 0.2743 - val_accuracy: 0.9327\n",
      "Epoch 168/1000\n",
      "20/29 [===================>..........] - ETA: 0s - loss: 0.5356 - accuracy: 0.8031\n",
      "Epoch 168: saving model to model/keypoint_classifier\\keypoint_classifier.hdf5\n",
      "29/29 [==============================] - 0s 12ms/step - loss: 0.5220 - accuracy: 0.8071 - val_loss: 0.2600 - val_accuracy: 0.9376\n",
      "Epoch 169/1000\n",
      "20/29 [===================>..........] - ETA: 0s - loss: 0.5589 - accuracy: 0.7832\n",
      "Epoch 169: saving model to model/keypoint_classifier\\keypoint_classifier.hdf5\n",
      "29/29 [==============================] - 0s 12ms/step - loss: 0.5462 - accuracy: 0.7917 - val_loss: 0.2658 - val_accuracy: 0.9311\n",
      "Epoch 170/1000\n",
      "19/29 [==================>...........] - ETA: 0s - loss: 0.5462 - accuracy: 0.7965\n",
      "Epoch 170: saving model to model/keypoint_classifier\\keypoint_classifier.hdf5\n",
      "29/29 [==============================] - 0s 13ms/step - loss: 0.5406 - accuracy: 0.7987 - val_loss: 0.2545 - val_accuracy: 0.9408\n",
      "Epoch 171/1000\n",
      "25/29 [========================>.....] - ETA: 0s - loss: 0.5492 - accuracy: 0.7941\n",
      "Epoch 171: saving model to model/keypoint_classifier\\keypoint_classifier.hdf5\n",
      "29/29 [==============================] - 0s 14ms/step - loss: 0.5419 - accuracy: 0.7971 - val_loss: 0.2583 - val_accuracy: 0.9392\n",
      "Epoch 172/1000\n",
      "27/29 [==========================>...] - ETA: 0s - loss: 0.5342 - accuracy: 0.8006\n",
      "Epoch 172: saving model to model/keypoint_classifier\\keypoint_classifier.hdf5\n",
      "29/29 [==============================] - 0s 13ms/step - loss: 0.5363 - accuracy: 0.7984 - val_loss: 0.2544 - val_accuracy: 0.9425\n",
      "Epoch 173/1000\n",
      "21/29 [====================>.........] - ETA: 0s - loss: 0.5370 - accuracy: 0.7969\n",
      "Epoch 173: saving model to model/keypoint_classifier\\keypoint_classifier.hdf5\n",
      "29/29 [==============================] - 0s 13ms/step - loss: 0.5478 - accuracy: 0.7922 - val_loss: 0.2663 - val_accuracy: 0.9392\n",
      "Epoch 174/1000\n",
      "26/29 [=========================>....] - ETA: 0s - loss: 0.5501 - accuracy: 0.7939\n",
      "Epoch 174: saving model to model/keypoint_classifier\\keypoint_classifier.hdf5\n",
      "29/29 [==============================] - 0s 13ms/step - loss: 0.5479 - accuracy: 0.7949 - val_loss: 0.2565 - val_accuracy: 0.9425\n",
      "Epoch 175/1000\n",
      "28/29 [===========================>..] - ETA: 0s - loss: 0.5458 - accuracy: 0.8008\n",
      "Epoch 175: saving model to model/keypoint_classifier\\keypoint_classifier.hdf5\n",
      "29/29 [==============================] - 0s 13ms/step - loss: 0.5494 - accuracy: 0.8006 - val_loss: 0.2509 - val_accuracy: 0.9433\n",
      "Epoch 176/1000\n",
      "20/29 [===================>..........] - ETA: 0s - loss: 0.5455 - accuracy: 0.8043\n",
      "Epoch 176: saving model to model/keypoint_classifier\\keypoint_classifier.hdf5\n",
      "29/29 [==============================] - 0s 13ms/step - loss: 0.5397 - accuracy: 0.8055 - val_loss: 0.2768 - val_accuracy: 0.9352\n",
      "Epoch 177/1000\n",
      "20/29 [===================>..........] - ETA: 0s - loss: 0.5429 - accuracy: 0.8020\n",
      "Epoch 177: saving model to model/keypoint_classifier\\keypoint_classifier.hdf5\n",
      "29/29 [==============================] - 0s 12ms/step - loss: 0.5404 - accuracy: 0.8006 - val_loss: 0.2539 - val_accuracy: 0.9417\n",
      "Epoch 178/1000\n",
      "19/29 [==================>...........] - ETA: 0s - loss: 0.5411 - accuracy: 0.8055\n",
      "Epoch 178: saving model to model/keypoint_classifier\\keypoint_classifier.hdf5\n",
      "29/29 [==============================] - 0s 13ms/step - loss: 0.5368 - accuracy: 0.8055 - val_loss: 0.2660 - val_accuracy: 0.9392\n",
      "Epoch 179/1000\n",
      "20/29 [===================>..........] - ETA: 0s - loss: 0.5509 - accuracy: 0.7957\n",
      "Epoch 179: saving model to model/keypoint_classifier\\keypoint_classifier.hdf5\n",
      "29/29 [==============================] - 0s 12ms/step - loss: 0.5477 - accuracy: 0.8001 - val_loss: 0.2542 - val_accuracy: 0.9408\n",
      "Epoch 180/1000\n",
      "29/29 [==============================] - ETA: 0s - loss: 0.5341 - accuracy: 0.8017\n",
      "Epoch 180: saving model to model/keypoint_classifier\\keypoint_classifier.hdf5\n",
      "29/29 [==============================] - 0s 13ms/step - loss: 0.5341 - accuracy: 0.8017 - val_loss: 0.2657 - val_accuracy: 0.9392\n",
      "Epoch 181/1000\n",
      "20/29 [===================>..........] - ETA: 0s - loss: 0.5478 - accuracy: 0.7871\n",
      "Epoch 181: saving model to model/keypoint_classifier\\keypoint_classifier.hdf5\n",
      "29/29 [==============================] - 0s 12ms/step - loss: 0.5503 - accuracy: 0.7892 - val_loss: 0.2524 - val_accuracy: 0.9449\n",
      "Epoch 182/1000\n",
      "29/29 [==============================] - ETA: 0s - loss: 0.5314 - accuracy: 0.7963\n",
      "Epoch 182: saving model to model/keypoint_classifier\\keypoint_classifier.hdf5\n",
      "29/29 [==============================] - 0s 13ms/step - loss: 0.5314 - accuracy: 0.7963 - val_loss: 0.2566 - val_accuracy: 0.9392\n",
      "Epoch 183/1000\n",
      "20/29 [===================>..........] - ETA: 0s - loss: 0.5425 - accuracy: 0.8043\n",
      "Epoch 183: saving model to model/keypoint_classifier\\keypoint_classifier.hdf5\n",
      "29/29 [==============================] - 0s 12ms/step - loss: 0.5447 - accuracy: 0.8006 - val_loss: 0.2721 - val_accuracy: 0.9279\n",
      "Epoch 184/1000\n",
      "29/29 [==============================] - ETA: 0s - loss: 0.5234 - accuracy: 0.7982\n",
      "Epoch 184: saving model to model/keypoint_classifier\\keypoint_classifier.hdf5\n",
      "29/29 [==============================] - 0s 13ms/step - loss: 0.5234 - accuracy: 0.7982 - val_loss: 0.2662 - val_accuracy: 0.9327\n",
      "Epoch 185/1000\n",
      "24/29 [=======================>......] - ETA: 0s - loss: 0.5438 - accuracy: 0.7998\n",
      "Epoch 185: saving model to model/keypoint_classifier\\keypoint_classifier.hdf5\n",
      "29/29 [==============================] - 0s 14ms/step - loss: 0.5463 - accuracy: 0.7984 - val_loss: 0.2694 - val_accuracy: 0.9344\n",
      "Epoch 186/1000\n",
      "20/29 [===================>..........] - ETA: 0s - loss: 0.5253 - accuracy: 0.8074\n",
      "Epoch 186: saving model to model/keypoint_classifier\\keypoint_classifier.hdf5\n",
      "29/29 [==============================] - 0s 12ms/step - loss: 0.5447 - accuracy: 0.7998 - val_loss: 0.2545 - val_accuracy: 0.9441\n",
      "Epoch 187/1000\n",
      "21/29 [====================>.........] - ETA: 0s - loss: 0.5214 - accuracy: 0.8095\n",
      "Epoch 187: saving model to model/keypoint_classifier\\keypoint_classifier.hdf5\n",
      "29/29 [==============================] - 0s 12ms/step - loss: 0.5205 - accuracy: 0.8092 - val_loss: 0.2636 - val_accuracy: 0.9368\n",
      "Epoch 188/1000\n",
      "28/29 [===========================>..] - ETA: 0s - loss: 0.5487 - accuracy: 0.8041\n",
      "Epoch 188: saving model to model/keypoint_classifier\\keypoint_classifier.hdf5\n",
      "29/29 [==============================] - 0s 13ms/step - loss: 0.5509 - accuracy: 0.8036 - val_loss: 0.2646 - val_accuracy: 0.9376\n",
      "Epoch 189/1000\n",
      "26/29 [=========================>....] - ETA: 0s - loss: 0.5477 - accuracy: 0.8011\n",
      "Epoch 189: saving model to model/keypoint_classifier\\keypoint_classifier.hdf5\n",
      "29/29 [==============================] - 0s 13ms/step - loss: 0.5526 - accuracy: 0.7987 - val_loss: 0.2557 - val_accuracy: 0.9400\n"
     ]
    },
    {
     "name": "stdout",
     "output_type": "stream",
     "text": [
      "Epoch 190/1000\n",
      "29/29 [==============================] - ETA: 0s - loss: 0.5184 - accuracy: 0.8041\n",
      "Epoch 190: saving model to model/keypoint_classifier\\keypoint_classifier.hdf5\n",
      "29/29 [==============================] - 0s 13ms/step - loss: 0.5184 - accuracy: 0.8041 - val_loss: 0.2721 - val_accuracy: 0.9271\n",
      "Epoch 191/1000\n",
      "21/29 [====================>.........] - ETA: 0s - loss: 0.5527 - accuracy: 0.7972\n",
      "Epoch 191: saving model to model/keypoint_classifier\\keypoint_classifier.hdf5\n",
      "29/29 [==============================] - 0s 12ms/step - loss: 0.5409 - accuracy: 0.8025 - val_loss: 0.2724 - val_accuracy: 0.9246\n",
      "Epoch 192/1000\n",
      "29/29 [==============================] - ETA: 0s - loss: 0.5491 - accuracy: 0.7868\n",
      "Epoch 192: saving model to model/keypoint_classifier\\keypoint_classifier.hdf5\n",
      "29/29 [==============================] - 0s 12ms/step - loss: 0.5491 - accuracy: 0.7868 - val_loss: 0.2519 - val_accuracy: 0.9457\n",
      "Epoch 193/1000\n",
      "29/29 [==============================] - ETA: 0s - loss: 0.5399 - accuracy: 0.7957\n",
      "Epoch 193: saving model to model/keypoint_classifier\\keypoint_classifier.hdf5\n",
      "29/29 [==============================] - 0s 13ms/step - loss: 0.5399 - accuracy: 0.7957 - val_loss: 0.2633 - val_accuracy: 0.9311\n",
      "Epoch 194/1000\n",
      "29/29 [==============================] - ETA: 0s - loss: 0.5254 - accuracy: 0.8052\n",
      "Epoch 194: saving model to model/keypoint_classifier\\keypoint_classifier.hdf5\n",
      "29/29 [==============================] - 0s 13ms/step - loss: 0.5254 - accuracy: 0.8052 - val_loss: 0.2583 - val_accuracy: 0.9352\n",
      "Epoch 195/1000\n",
      "20/29 [===================>..........] - ETA: 0s - loss: 0.5310 - accuracy: 0.7973\n",
      "Epoch 195: saving model to model/keypoint_classifier\\keypoint_classifier.hdf5\n",
      "29/29 [==============================] - 0s 12ms/step - loss: 0.5338 - accuracy: 0.7982 - val_loss: 0.2552 - val_accuracy: 0.9360\n",
      "Epoch 195: early stopping\n"
     ]
    },
    {
     "data": {
      "text/plain": [
       "<keras.callbacks.History at 0x1a7415289d0>"
      ]
     },
     "execution_count": 37,
     "metadata": {},
     "output_type": "execute_result"
    }
   ],
   "source": [
    "model.fit(\n",
    "    X_train,\n",
    "    y_train,\n",
    "    epochs=1000,\n",
    "    batch_size=128,\n",
    "    validation_data=(X_test, y_test),\n",
    "    callbacks=[cp_callback, es_callback]\n",
    ")"
   ]
  },
  {
   "cell_type": "code",
   "execution_count": 38,
   "metadata": {
    "colab": {
     "base_uri": "https://localhost:8080/"
    },
    "id": "pxvb2Y299hE3",
    "outputId": "59eb3185-2e37-4b9e-bc9d-ab1b8ac29b7f"
   },
   "outputs": [
    {
     "name": "stdout",
     "output_type": "stream",
     "text": [
      "10/10 [==============================] - 0s 5ms/step - loss: 0.2552 - accuracy: 0.9360\n"
     ]
    }
   ],
   "source": [
    "# Model evaluation\n",
    "val_loss, val_acc = model.evaluate(X_test, y_test, batch_size=128)"
   ]
  },
  {
   "cell_type": "code",
   "execution_count": 39,
   "metadata": {
    "id": "RBkmDeUW9hE4"
   },
   "outputs": [],
   "source": [
    "# Loading the saved model\n",
    "model = tf.keras.models.load_model(model_save_path)"
   ]
  },
  {
   "cell_type": "code",
   "execution_count": 40,
   "metadata": {
    "colab": {
     "base_uri": "https://localhost:8080/"
    },
    "id": "tFz9Tb0I9hE4",
    "outputId": "1c3b3528-54ae-4ee2-ab04-77429211cbef"
   },
   "outputs": [
    {
     "name": "stdout",
     "output_type": "stream",
     "text": [
      "1/1 [==============================] - 0s 172ms/step\n",
      "[1.42457755e-02 9.53926146e-01 3.15150470e-02 6.03083901e-15\n",
      " 3.13056662e-04 9.52452783e-10]\n",
      "1\n"
     ]
    }
   ],
   "source": [
    "# Inference test\n",
    "predict_result = model.predict(np.array([X_test[0]]))\n",
    "print(np.squeeze(predict_result))\n",
    "print(np.argmax(np.squeeze(predict_result)))"
   ]
  },
  {
   "cell_type": "markdown",
   "metadata": {
    "id": "S3U4yNWx9hE4"
   },
   "source": [
    "# Confusion matrix"
   ]
  },
  {
   "cell_type": "code",
   "execution_count": 41,
   "metadata": {
    "colab": {
     "base_uri": "https://localhost:8080/",
     "height": 582
    },
    "id": "AP1V6SCk9hE5",
    "outputId": "08e41a80-7a4a-4619-8125-ecc371368d19"
   },
   "outputs": [
    {
     "name": "stdout",
     "output_type": "stream",
     "text": [
      "39/39 [==============================] - 0s 4ms/step\n"
     ]
    },
    {
     "data": {
      "image/png": "[encoded data removed]",
      "text/plain": [
       "<Figure size 700x600 with 2 Axes>"
      ]
     },
     "metadata": {},
     "output_type": "display_data"
    },
    {
     "name": "stdout",
     "output_type": "stream",
     "text": [
      "Classification Report\n",
      "              precision    recall  f1-score   support\n",
      "\n",
      "           0       0.97      0.99      0.98       391\n",
      "           1       0.97      0.84      0.90       373\n",
      "           2       0.86      0.99      0.92       340\n",
      "           3       0.99      0.99      0.99        84\n",
      "           4       0.00      0.00      0.00        13\n",
      "           5       0.97      1.00      0.99        33\n",
      "\n",
      "    accuracy                           0.94      1234\n",
      "   macro avg       0.79      0.80      0.80      1234\n",
      "weighted avg       0.93      0.94      0.93      1234\n",
      "\n"
     ]
    },
    {
     "name": "stderr",
     "output_type": "stream",
     "text": [
      "C:\\Users\\PC\\AppData\\Local\\Programs\\Python\\Python310\\lib\\site-packages\\sklearn\\metrics\\_classification.py:1334: UndefinedMetricWarning: Precision and F-score are ill-defined and being set to 0.0 in labels with no predicted samples. Use `zero_division` parameter to control this behavior.\n",
      "  _warn_prf(average, modifier, msg_start, len(result))\n",
      "C:\\Users\\PC\\AppData\\Local\\Programs\\Python\\Python310\\lib\\site-packages\\sklearn\\metrics\\_classification.py:1334: UndefinedMetricWarning: Precision and F-score are ill-defined and being set to 0.0 in labels with no predicted samples. Use `zero_division` parameter to control this behavior.\n",
      "  _warn_prf(average, modifier, msg_start, len(result))\n",
      "C:\\Users\\PC\\AppData\\Local\\Programs\\Python\\Python310\\lib\\site-packages\\sklearn\\metrics\\_classification.py:1334: UndefinedMetricWarning: Precision and F-score are ill-defined and being set to 0.0 in labels with no predicted samples. Use `zero_division` parameter to control this behavior.\n",
      "  _warn_prf(average, modifier, msg_start, len(result))\n"
     ]
    }
   ],
   "source": [
    "import pandas as pd\n",
    "import seaborn as sns\n",
    "import matplotlib.pyplot as plt\n",
    "from sklearn.metrics import confusion_matrix, classification_report\n",
    "\n",
    "def print_confusion_matrix(y_true, y_pred, report=True):\n",
    "    labels = sorted(list(set(y_true)))\n",
    "    cmx_data = confusion_matrix(y_true, y_pred, labels=labels)\n",
    "    \n",
    "    df_cmx = pd.DataFrame(cmx_data, index=labels, columns=labels)\n",
    " \n",
    "    fig, ax = plt.subplots(figsize=(7, 6))\n",
    "    sns.heatmap(df_cmx, annot=True, fmt='g' ,square=False)\n",
    "    ax.set_ylim(len(set(y_true)), 0)\n",
    "    plt.show()\n",
    "    \n",
    "    if report:\n",
    "        print('Classification Report')\n",
    "        print(classification_report(y_test, y_pred))\n",
    "\n",
    "Y_pred = model.predict(X_test)\n",
    "y_pred = np.argmax(Y_pred, axis=1)\n",
    "\n",
    "print_confusion_matrix(y_test, y_pred)"
   ]
  },
  {
   "cell_type": "markdown",
   "metadata": {
    "id": "FNP6aqzc9hE5"
   },
   "source": [
    "# Convert to model for Tensorflow-Lite"
   ]
  },
  {
   "cell_type": "code",
   "execution_count": 42,
   "metadata": {
    "id": "ODjnYyld9hE6"
   },
   "outputs": [],
   "source": [
    "# Save as a model dedicated to inference\n",
    "model.save(model_save_path, include_optimizer=False)"
   ]
  },
  {
   "cell_type": "code",
   "execution_count": 43,
   "metadata": {
    "colab": {
     "base_uri": "https://localhost:8080/"
    },
    "id": "zRfuK8Y59hE6",
    "outputId": "a4ca585c-b5d5-4244-8291-8674063209bb"
   },
   "outputs": [
    {
     "name": "stdout",
     "output_type": "stream",
     "text": [
      "INFO:tensorflow:Assets written to: C:\\Users\\PC\\AppData\\Local\\Temp\\tmpgb0km8ow\\assets\n"
     ]
    },
    {
     "name": "stderr",
     "output_type": "stream",
     "text": [
      "INFO:tensorflow:Assets written to: C:\\Users\\PC\\AppData\\Local\\Temp\\tmpgb0km8ow\\assets\n"
     ]
    },
    {
     "data": {
      "text/plain": [
       "6660"
      ]
     },
     "execution_count": 43,
     "metadata": {},
     "output_type": "execute_result"
    }
   ],
   "source": [
    "# Transform model (quantization)\n",
    "\n",
    "converter = tf.lite.TFLiteConverter.from_keras_model(model)\n",
    "converter.optimizations = [tf.lite.Optimize.DEFAULT]\n",
    "tflite_quantized_model = converter.convert()\n",
    "\n",
    "open(tflite_save_path, 'wb').write(tflite_quantized_model)"
   ]
  },
  {
   "cell_type": "markdown",
   "metadata": {
    "id": "CHBPBXdx9hE6"
   },
   "source": [
    "# Inference test"
   ]
  },
  {
   "cell_type": "code",
   "execution_count": 44,
   "metadata": {
    "id": "mGAzLocO9hE7"
   },
   "outputs": [],
   "source": [
    "interpreter = tf.lite.Interpreter(model_path=tflite_save_path)\n",
    "interpreter.allocate_tensors()"
   ]
  },
  {
   "cell_type": "code",
   "execution_count": 45,
   "metadata": {
    "id": "oQuDK8YS9hE7"
   },
   "outputs": [],
   "source": [
    "# Get I / O tensor\n",
    "input_details = interpreter.get_input_details()\n",
    "output_details = interpreter.get_output_details()"
   ]
  },
  {
   "cell_type": "code",
   "execution_count": 46,
   "metadata": {
    "id": "2_ixAf_l9hE7"
   },
   "outputs": [],
   "source": [
    "interpreter.set_tensor(input_details[0]['index'], np.array([X_test[0]]))"
   ]
  },
  {
   "cell_type": "code",
   "execution_count": 47,
   "metadata": {
    "colab": {
     "base_uri": "https://localhost:8080/"
    },
    "id": "s4FoAnuc9hE7",
    "outputId": "91f18257-8d8b-4ef3-c558-e9b5f94fabbf",
    "scrolled": true
   },
   "outputs": [
    {
     "name": "stdout",
     "output_type": "stream",
     "text": [
      "CPU times: total: 0 ns\n",
      "Wall time: 0 ns\n"
     ]
    }
   ],
   "source": [
    "%%time\n",
    "# Inference implementation\n",
    "interpreter.invoke()\n",
    "tflite_results = interpreter.get_tensor(output_details[0]['index'])"
   ]
  },
  {
   "cell_type": "code",
   "execution_count": 48,
   "metadata": {
    "colab": {
     "base_uri": "https://localhost:8080/"
    },
    "id": "vONjp19J9hE8",
    "outputId": "77205e24-fd00-42c4-f7b6-e06e527c2cba"
   },
   "outputs": [
    {
     "name": "stdout",
     "output_type": "stream",
     "text": [
      "[1.4245789e-02 9.5392615e-01 3.1515066e-02 6.0308615e-15 3.1305608e-04\n",
      " 9.5245456e-10]\n",
      "1\n"
     ]
    }
   ],
   "source": [
    "print(np.squeeze(tflite_results))\n",
    "print(np.argmax(np.squeeze(tflite_results)))"
   ]
  }
 ],
 "metadata": {
  "accelerator": "GPU",
  "colab": {
   "collapsed_sections": [],
   "name": "keypoint_classification_EN.ipynb",
   "provenance": [],
   "toc_visible": true
  },
  "kernelspec": {
   "display_name": "Python 3 (ipykernel)",
   "language": "python",
   "name": "python3"
  },
  "language_info": {
   "codemirror_mode": {
    "name": "ipython",
    "version": 3
   },
   "file_extension": ".py",
   "mimetype": "text/x-python",
   "name": "python",
   "nbconvert_exporter": "python",
   "pygments_lexer": "ipython3",
   "version": "3.10.6"
  }
 },
 "nbformat": 4,
 "nbformat_minor": 1
}
